{
 "cells": [
  {
   "cell_type": "code",
   "execution_count": 1,
   "metadata": {
    "collapsed": false
   },
   "outputs": [
    {
     "name": "stdout",
     "output_type": "stream",
     "text": [
      "env: SPOTIPY_CLIENT_ID=1997589c8424451fa4b640db91bacc41\n",
      "env: SPOTIPY_CLIENT_SECRET=08bcbc63b39f4321ad6844e095abf4de\n",
      "env: SPOTIPY_REDIRECT_URI=http://localhost:8888/notebooks/nusicfinder.ipynb\n"
     ]
    }
   ],
   "source": [
    "import sys, spotipy, json\n",
    "import spotipy.util as util\n",
    "%env SPOTIPY_CLIENT_ID 1997589c8424451fa4b640db91bacc41\n",
    "%env SPOTIPY_CLIENT_SECRET 08bcbc63b39f4321ad6844e095abf4de\n",
    "# %env SPOTIPY_REDIRECT_URI http://localhost:8888/callback\n",
    "%env SPOTIPY_REDIRECT_URI http://localhost:8888/notebooks/nusicfinder.ipynb\n",
    "USER_NAME = 'nghokui'"
   ]
  },
  {
   "cell_type": "markdown",
   "metadata": {},
   "source": [
    "<h3>Get authorization token and initialize</h3>"
   ]
  },
  {
   "cell_type": "code",
   "execution_count": 2,
   "metadata": {
    "collapsed": false
   },
   "outputs": [],
   "source": [
    "scope = None\n",
    "token = util.prompt_for_user_token(USER_NAME, scope)\n",
    "if token:\n",
    "    spotify = spotipy.Spotify(auth=token)\n",
    "else:\n",
    "    print(\"Can't get token for username.\")"
   ]
  },
  {
   "cell_type": "code",
   "execution_count": 3,
   "metadata": {
    "collapsed": false
   },
   "outputs": [],
   "source": [
    "every_open_eye = 'spotify:album:0ytgAfCjv6U5BMEDrQgCwX'\n",
    "bones_of_what_you_believe = 'spotify:album:54IMJ8S0redmP6krSlKZLD'\n",
    "\n",
    "no_mythologies_to_follow = 'spotify:album:13xRSfodlL3UtG3xSyL8u2'\n",
    "\n",
    "another_eternity = 'spotify:album:4ymjpcGruNuUUUZOeGawLe'\n",
    "shrines = 'spotify:album:7ppypgQppMf3mkRbZxYIFM'"
   ]
  },
  {
   "cell_type": "markdown",
   "metadata": {},
   "source": [
    "Related artists"
   ]
  },
  {
   "cell_type": "code",
   "execution_count": 4,
   "metadata": {
    "collapsed": false
   },
   "outputs": [],
   "source": [
    "artistsID = {\n",
    "    'chvrches': 'spotify:artist:3CjlHNtplJyTf9npxaPl5w', \n",
    "    'purity_ring': 'spotify:artist:1TtJ8j22Roc24e2Jx3OcU4', \n",
    "    'mo': 'spotify:artist:0bdfiayQAKewqEvaU6rXCv'\n",
    "}\n",
    "relatedArtistsData = {}\n",
    "for artist,uri in artistsID.items():\n",
    "    relatedArtistsData[artist] = spotify.artist_related_artists(uri)"
   ]
  },
  {
   "cell_type": "markdown",
   "metadata": {},
   "source": [
    "Get tracks for albums"
   ]
  },
  {
   "cell_type": "code",
   "execution_count": 5,
   "metadata": {
    "collapsed": false
   },
   "outputs": [],
   "source": [
    "albums, audioFeatures = {}, {}\n",
    "albumNames = [\n",
    "    every_open_eye, bones_of_what_you_believe, \n",
    "    no_mythologies_to_follow, another_eternity, shrines\n",
    "]\n",
    "for album in albumNames:\n",
    "    # get album data\n",
    "    albumData = spotify.album_tracks(album)['items']\n",
    "    albums[album] = albumData\n",
    "    \n",
    "    # get audio features for album list\n",
    "    trackList = [track['uri'] for track in albumData]\n",
    "    audioFeatures[album] = spotify.audio_features(trackList)"
   ]
  },
  {
   "cell_type": "markdown",
   "metadata": {},
   "source": [
    "Write to file"
   ]
  },
  {
   "cell_type": "code",
   "execution_count": 6,
   "metadata": {
    "collapsed": false
   },
   "outputs": [],
   "source": [
    "dataPath = '/Users/nghokui/Programming/projects/nusicfinder/data'\n",
    "for fname,fdata in [('related', relatedArtistsData), ('albums', albums), ('audioFeatures', audioFeatures)]:\n",
    "    with open('{}/{}.json'.format(dataPath, fname), 'w') as jfile:\n",
    "        json.dump(fdata, jfile)"
   ]
  },
  {
   "cell_type": "code",
   "execution_count": null,
   "metadata": {
    "collapsed": true
   },
   "outputs": [],
   "source": []
  }
 ],
 "metadata": {
  "kernelspec": {
   "display_name": "Python 3",
   "language": "python",
   "name": "python3"
  },
  "language_info": {
   "codemirror_mode": {
    "name": "ipython",
    "version": 3
   },
   "file_extension": ".py",
   "mimetype": "text/x-python",
   "name": "python",
   "nbconvert_exporter": "python",
   "pygments_lexer": "ipython3",
   "version": "3.5.1"
  }
 },
 "nbformat": 4,
 "nbformat_minor": 0
}
