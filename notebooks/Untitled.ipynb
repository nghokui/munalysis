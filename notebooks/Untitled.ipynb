{
 "cells": [
  {
   "cell_type": "code",
   "execution_count": 2,
   "metadata": {
    "collapsed": false
   },
   "outputs": [],
   "source": [
    "import requests, base64, spotipy\n",
    "import spotipy.util as util\n",
    "SPOTIFY_APP_ID = '7cfa672dfe9b4583b777428d687e75bb'\n",
    "SPOTIFY_APP_KEY = '41233af03e29497f857f727d06a3d7ff'"
   ]
  },
  {
   "cell_type": "code",
   "execution_count": 4,
   "metadata": {
    "collapsed": false
   },
   "outputs": [
    {
     "data": {
      "text/plain": [
       "{'artists': {'href': 'https://api.spotify.com/v1/search?query=chvrches&offset=0&limit=20&type=artist',\n",
       "  'items': [{'external_urls': {'spotify': 'https://open.spotify.com/artist/3CjlHNtplJyTf9npxaPl5w'},\n",
       "    'followers': {'href': None, 'total': 559936},\n",
       "    'genres': [],\n",
       "    'href': 'https://api.spotify.com/v1/artists/3CjlHNtplJyTf9npxaPl5w',\n",
       "    'id': '3CjlHNtplJyTf9npxaPl5w',\n",
       "    'images': [{'height': 1000,\n",
       "      'url': 'https://i.scdn.co/image/a1b7ef8d8578ce9658f47cd05a3bd1e60fe6f796',\n",
       "      'width': 1000},\n",
       "     {'height': 640,\n",
       "      'url': 'https://i.scdn.co/image/513a957c31cdd56191f07ba9d3fec41c0587e015',\n",
       "      'width': 640},\n",
       "     {'height': 200,\n",
       "      'url': 'https://i.scdn.co/image/5d09e2d69310fd418b40109b9eede9fab20dbfd8',\n",
       "      'width': 200},\n",
       "     {'height': 64,\n",
       "      'url': 'https://i.scdn.co/image/29a7e2316d20be3e4116c7d1ea76d53c2b3a590e',\n",
       "      'width': 64}],\n",
       "    'name': 'CHVRCHES',\n",
       "    'popularity': 70,\n",
       "    'type': 'artist',\n",
       "    'uri': 'spotify:artist:3CjlHNtplJyTf9npxaPl5w'}],\n",
       "  'limit': 20,\n",
       "  'next': None,\n",
       "  'offset': 0,\n",
       "  'previous': None,\n",
       "  'total': 1}}"
      ]
     },
     "execution_count": 4,
     "metadata": {},
     "output_type": "execute_result"
    }
   ],
   "source": [
    "r = requests.get('https://api.spotify.com/v1/search?q=chvrches&type=artist')\n",
    "r.json()"
   ]
  },
  {
   "cell_type": "code",
   "execution_count": 8,
   "metadata": {
    "collapsed": false
   },
   "outputs": [],
   "source": [
    "rTopTracks = requests.get('https://api.spotify.com/v1/artists/3CjlHNtplJyTf9npxaPl5w/top-tracks?country=US')\n",
    "trackData = [ttrack['id'] for ttrack in rTopTracks.json()['tracks']]    "
   ]
  },
  {
   "cell_type": "code",
   "execution_count": 11,
   "metadata": {
    "collapsed": false
   },
   "outputs": [],
   "source": [
    "afURL = 'https://api.spotify.com/v1/audio-features/?ids={}'.format(','.join(trackData))\n",
    "\n",
    "rAudioFeatures = requests.get(, auth=(SPOTIFY_APP_ID, SPOTIFY_APP_KEY))"
   ]
  },
  {
   "cell_type": "code",
   "execution_count": 12,
   "metadata": {
    "collapsed": false
   },
   "outputs": [
    {
     "data": {
      "text/plain": [
       "{'error': {'message': 'Only valid bearer authentication supported',\n",
       "  'status': 400}}"
      ]
     },
     "execution_count": 12,
     "metadata": {},
     "output_type": "execute_result"
    }
   ],
   "source": [
    "rAudioFeatures.json()"
   ]
  },
  {
   "cell_type": "code",
   "execution_count": 29,
   "metadata": {
    "collapsed": false
   },
   "outputs": [],
   "source": [
    "authString = base64.b64encode('Basic {}:{}'.format(SPOTIFY_APP_ID, SPOTIFY_APP_KEY).encode())\n",
    "headers = {'Authorization':authString}\n",
    "body = {'grant_type': 'client_credentials'}\n",
    "tokenReq = requests.post('https://accounts.spotify.com/api/token', headers=headers, data=body)\n"
   ]
  },
  {
   "cell_type": "code",
   "execution_count": 30,
   "metadata": {
    "collapsed": false
   },
   "outputs": [
    {
     "data": {
      "text/plain": [
       "{'error': 'invalid_client'}"
      ]
     },
     "execution_count": 30,
     "metadata": {},
     "output_type": "execute_result"
    }
   ],
   "source": [
    "tokenReq.json()"
   ]
  },
  {
   "cell_type": "code",
   "execution_count": 28,
   "metadata": {
    "collapsed": false
   },
   "outputs": [],
   "source": [
    "authString = base64.b64encode('Basic {}:{}'.format(SPOTIFY_APP_ID, SPOTIFY_APP_KEY).encode())"
   ]
  },
  {
   "cell_type": "code",
   "execution_count": 3,
   "metadata": {
    "collapsed": false
   },
   "outputs": [
    {
     "name": "stdout",
     "output_type": "stream",
     "text": [
      "\n",
      "            You need to set your Spotify API credentials. You can do this by\n",
      "            setting environment variables like so:\n",
      "\n",
      "            export SPOTIPY_CLIENT_ID='your-spotify-client-id'\n",
      "            export SPOTIPY_CLIENT_SECRET='your-spotify-client-secret'\n",
      "            export SPOTIPY_REDIRECT_URI='your-app-redirect-url'\n",
      "\n",
      "            Get your credentials at     \n",
      "                https://developer.spotify.com/my-applications\n",
      "        \n"
     ]
    },
    {
     "ename": "SpotifyException",
     "evalue": "http status: 550, code:-1 - no credentials set",
     "output_type": "error",
     "traceback": [
      "\u001b[0;31m---------------------------------------------------------------------------\u001b[0m",
      "\u001b[0;31mSpotifyException\u001b[0m                          Traceback (most recent call last)",
      "\u001b[0;32m<ipython-input-3-3e6c0efa41d1>\u001b[0m in \u001b[0;36m<module>\u001b[0;34m()\u001b[0m\n\u001b[0;32m----> 1\u001b[0;31m \u001b[0mtoken\u001b[0m \u001b[0;34m=\u001b[0m \u001b[0mutil\u001b[0m\u001b[0;34m.\u001b[0m\u001b[0mprompt_for_user_token\u001b[0m\u001b[0;34m(\u001b[0m\u001b[0mSPOTIFY_APP_ID\u001b[0m\u001b[0;34m,\u001b[0m \u001b[0mSPOTIFY_APP_KEY\u001b[0m\u001b[0;34m)\u001b[0m\u001b[0;34m\u001b[0m\u001b[0m\n\u001b[0m",
      "\u001b[0;32m/home/bng/Dev/Misc/munalysis/munalysis/lib/python3.5/site-packages/spotipy/util.py\u001b[0m in \u001b[0;36mprompt_for_user_token\u001b[0;34m(username, scope, client_id, client_secret, redirect_uri)\u001b[0m\n\u001b[1;32m     45\u001b[0m                 \u001b[0mhttps\u001b[0m\u001b[0;34m:\u001b[0m\u001b[0;34m//\u001b[0m\u001b[0mdeveloper\u001b[0m\u001b[0;34m.\u001b[0m\u001b[0mspotify\u001b[0m\u001b[0;34m.\u001b[0m\u001b[0mcom\u001b[0m\u001b[0;34m/\u001b[0m\u001b[0mmy\u001b[0m\u001b[0;34m-\u001b[0m\u001b[0mapplications\u001b[0m\u001b[0;34m\u001b[0m\u001b[0m\n\u001b[1;32m     46\u001b[0m         ''')\n\u001b[0;32m---> 47\u001b[0;31m         \u001b[0;32mraise\u001b[0m \u001b[0mspotipy\u001b[0m\u001b[0;34m.\u001b[0m\u001b[0mSpotifyException\u001b[0m\u001b[0;34m(\u001b[0m\u001b[0;36m550\u001b[0m\u001b[0;34m,\u001b[0m \u001b[0;34m-\u001b[0m\u001b[0;36m1\u001b[0m\u001b[0;34m,\u001b[0m \u001b[0;34m'no credentials set'\u001b[0m\u001b[0;34m)\u001b[0m\u001b[0;34m\u001b[0m\u001b[0m\n\u001b[0m\u001b[1;32m     48\u001b[0m \u001b[0;34m\u001b[0m\u001b[0m\n\u001b[1;32m     49\u001b[0m     sp_oauth = oauth2.SpotifyOAuth(client_id, client_secret, redirect_uri, \n",
      "\u001b[0;31mSpotifyException\u001b[0m: http status: 550, code:-1 - no credentials set"
     ]
    }
   ],
   "source": [
    "token = util.prompt_for_user_token(SPOTIPY_CLIENT_ID=SPOTIFY_APP_ID, SPOTIPY_CLIENT_SECRET=SPOTIFY_APP_KEY, SPOTIPY_REDIRECT_URI=)"
   ]
  },
  {
   "cell_type": "code",
   "execution_count": null,
   "metadata": {
    "collapsed": true
   },
   "outputs": [],
   "source": []
  }
 ],
 "metadata": {
  "kernelspec": {
   "display_name": "Python 3",
   "language": "python",
   "name": "python3"
  },
  "language_info": {
   "codemirror_mode": {
    "name": "ipython",
    "version": 3
   },
   "file_extension": ".py",
   "mimetype": "text/x-python",
   "name": "python",
   "nbconvert_exporter": "python",
   "pygments_lexer": "ipython3",
   "version": "3.5.2"
  }
 },
 "nbformat": 4,
 "nbformat_minor": 1
}
